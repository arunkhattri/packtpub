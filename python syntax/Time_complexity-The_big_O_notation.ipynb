{
 "cells": [
  {
   "cell_type": "markdown",
   "id": "2ab8a9d4-c1ab-43e0-9512-95000be32f23",
   "metadata": {},
   "source": [
    "# Time Complexity - The big O notation\n",
    "\n",
    "📌 The big O letter refers to the capital version of the Greek letter <span style='color:#FF7F50'>Omicron</span>, which means small-o (micron o)"
   ]
  },
  {
   "cell_type": "markdown",
   "id": "c6ef6e29-5b29-4ffb-ac37-0194539e5a06",
   "metadata": {},
   "source": [
    "When we say that a function takes <span style='color:FF7F50'>O(1)</span> time, it means that it generally only takes <span style='color:FF7F50'>1 step </span> to execute. Similarly, a function with <span style='color:FF7F50'>O(n)</span> time would take <span style='color:FF7F50'>n steps </span> to execute, where n is generally the size (or length) of the object. This time complexity is just a basic indication of what to expect when executing the code, as it is generally what matters most.\n",
    "\n",
    "📌 In addition to O, several other characters might pop up in literature, Here's an overview of the characters used:\n",
    "\n",
    "* $\\color{#FF7F50}{O}$ Big Omicron: The upper bound/worst-case scenario.\n",
    "* $\\color{#FF7F50}\\Omega$ Big Omega: The lower bound/best-case scenario.\n",
    "* $\\color{#FF7F50}\\Theta$ Big Theta: The tight bound, which means both $\\color{#FF7F50}{O}$ and $\\color{#FF7F50}{\\Omega}$ are identical."
   ]
  }
 ],
 "metadata": {
  "kernelspec": {
   "display_name": "packtpub",
   "language": "python",
   "name": "packtpub"
  },
  "language_info": {
   "codemirror_mode": {
    "name": "ipython",
    "version": 3
   },
   "file_extension": ".py",
   "mimetype": "text/x-python",
   "name": "python",
   "nbconvert_exporter": "python",
   "pygments_lexer": "ipython3",
   "version": "3.10.5"
  }
 },
 "nbformat": 4,
 "nbformat_minor": 5
}
