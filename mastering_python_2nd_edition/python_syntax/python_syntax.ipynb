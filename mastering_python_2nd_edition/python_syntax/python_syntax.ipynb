{
 "cells": [
  {
   "cell_type": "markdown",
   "id": "8f5c534d-fc3b-416a-a44d-e814168364ff",
   "metadata": {},
   "source": [
    "## PEP 634: Structural pattern matching, the switch statement"
   ]
  },
  {
   "cell_type": "markdown",
   "id": "d1bfdbc9-54a3-4c8a-b14b-f858179ded41",
   "metadata": {},
   "source": [
    "### The basic match statement"
   ]
  },
  {
   "cell_type": "code",
   "execution_count": 1,
   "id": "1be7bb5f-c91f-4651-a462-048dd6b076fd",
   "metadata": {},
   "outputs": [],
   "source": [
    "some_variable = 123"
   ]
  },
  {
   "cell_type": "code",
   "execution_count": 2,
   "id": "3cd00503-76ab-4374-b25a-32eacbef4622",
   "metadata": {},
   "outputs": [
    {
     "name": "stdout",
     "output_type": "stream",
     "text": [
      "Got something else\n"
     ]
    }
   ],
   "source": [
    "match some_variable:\n",
    "    case 1:\n",
    "        print('Got 1')\n",
    "    case 2:\n",
    "        print('Got 2')\n",
    "    case _:\n",
    "        print(\"Got something else\")"
   ]
  },
  {
   "cell_type": "markdown",
   "id": "9741b67b-2c4f-4cd1-8d73-d0b0de9d259e",
   "metadata": {},
   "source": [
    "#### regular if/elif/else ..."
   ]
  },
  {
   "cell_type": "code",
   "execution_count": 3,
   "id": "6758d936-0a9d-4f0c-be70-da111a641e51",
   "metadata": {},
   "outputs": [
    {
     "name": "stdout",
     "output_type": "stream",
     "text": [
      "Got something else\n"
     ]
    }
   ],
   "source": [
    "if some_variable == 1:\n",
    "    print(\"Got 1\")\n",
    "elif some_variable == 2:\n",
    "    print(\"Got 2\")\n",
    "else:\n",
    "    print(\"Got something else\")"
   ]
  },
  {
   "cell_type": "markdown",
   "id": "430065c4-b108-4365-8976-efbbb2a1d064",
   "metadata": {},
   "source": [
    "#### Storing the fallback as a variable\n",
    "\n",
    "if we name the variable differently,we can store the result:"
   ]
  },
  {
   "cell_type": "code",
   "execution_count": 4,
   "id": "345413ae-2ab1-4641-bf9c-52790ec199c7",
   "metadata": {},
   "outputs": [
    {
     "name": "stdout",
     "output_type": "stream",
     "text": [
      "Got something else\n"
     ]
    }
   ],
   "source": [
    "match some_variable:\n",
    "    case 1:\n",
    "        print('Got 1')\n",
    "    case 2:\n",
    "        print('Got 2')\n",
    "    case other:\n",
    "        print(\"Got something else\")"
   ]
  },
  {
   "cell_type": "code",
   "execution_count": 5,
   "id": "07f50692-fbb3-4941-a666-570066a624ce",
   "metadata": {},
   "outputs": [
    {
     "data": {
      "text/plain": [
       "123"
      ]
     },
     "execution_count": 5,
     "metadata": {},
     "output_type": "execute_result"
    }
   ],
   "source": [
    "other"
   ]
  },
  {
   "cell_type": "code",
   "execution_count": 6,
   "id": "04ee16e7-8970-4ab5-9f31-9c03ac3f1e31",
   "metadata": {},
   "outputs": [
    {
     "data": {
      "text/plain": [
       "True"
      ]
     },
     "execution_count": 6,
     "metadata": {},
     "output_type": "execute_result"
    }
   ],
   "source": [
    "some_variable == other"
   ]
  },
  {
   "cell_type": "markdown",
   "id": "f1372199-32b3-41f1-b8e5-fdc804940e77",
   "metadata": {},
   "source": [
    "can we do the equivalent of :\n",
    "`if some_variable == some_value:`\n",
    "\n",
    "yes, with a caveat. Since any bare <span style='color:#E75480'>case variable:</span> will result in storing into a variable, we need to have something that does not match that pattern.\n",
    "The common way to work around this limitation is by introducing a dot:"
   ]
  },
  {
   "cell_type": "code",
   "execution_count": 10,
   "id": "265d0964-1a21-40fb-8f65-f87b07dbf39c",
   "metadata": {},
   "outputs": [],
   "source": [
    "class Direction:\n",
    "    LEFT = -1\n",
    "    RIGHT = 1\n",
    "    UP = 0\n",
    "    DOWN = 2"
   ]
  },
  {
   "cell_type": "code",
   "execution_count": 8,
   "id": "78ad9856-2db1-4c26-8168-f070ba800fb8",
   "metadata": {},
   "outputs": [],
   "source": [
    "some_direction = Direction.LEFT"
   ]
  },
  {
   "cell_type": "code",
   "execution_count": 9,
   "id": "038c1459-8505-47b3-9f1d-a9ad90acb14a",
   "metadata": {},
   "outputs": [
    {
     "name": "stdout",
     "output_type": "stream",
     "text": [
      "Going left\n"
     ]
    }
   ],
   "source": [
    "match some_direction:\n",
    "    case Direction.LEFT:\n",
    "        print(\"Going left\")\n",
    "    case Direction.RIGHT:\n",
    "        print(\"Going right\")"
   ]
  },
  {
   "cell_type": "markdown",
   "id": "7638109c-62f8-4459-b171-a182d96d8e4e",
   "metadata": {},
   "source": [
    "### Matching multiple values in a single case"
   ]
  },
  {
   "cell_type": "code",
   "execution_count": 11,
   "id": "d9112d0f-d917-4770-95b6-f53594e900a6",
   "metadata": {},
   "outputs": [
    {
     "name": "stdout",
     "output_type": "stream",
     "text": [
      "Going horizontal\n"
     ]
    }
   ],
   "source": [
    "match some_direction:\n",
    "    case Direction.LEFT | Direction.LEFT:\n",
    "        print(\"Going horizontal\")\n",
    "    case Direction.UP | Direction.DOWN:\n",
    "        print(\"Going vertical\")"
   ]
  },
  {
   "cell_type": "markdown",
   "id": "92763fc4-da36-410f-b828-69a9aab6a088",
   "metadata": {},
   "source": [
    "using the <span style='color:#E75480'>|</span> operator (which is also used for bitwise operations), we can test for mutliple values at the same time."
   ]
  },
  {
   "cell_type": "markdown",
   "id": "62f3e671-8e1f-4765-9da1-010097dc202e",
   "metadata": {},
   "source": [
    "### Matching values with guards or extra conditions"
   ]
  },
  {
   "cell_type": "code",
   "execution_count": 12,
   "id": "643fef50-c663-431e-b0cb-c8b4b9dc1e4d",
   "metadata": {},
   "outputs": [],
   "source": [
    "values = -1, 0, 1"
   ]
  },
  {
   "cell_type": "code",
   "execution_count": 14,
   "id": "247b0d0f-b3d7-4dbc-973e-bb85428c68c4",
   "metadata": {},
   "outputs": [
    {
     "name": "stdout",
     "output_type": "stream",
     "text": [
      "matching -1: -1 is smaller than 0.\n",
      "matching 0: No match\n",
      "matching 1: 1 is greater than 0.\n"
     ]
    }
   ],
   "source": [
    "for value in values:\n",
    "    print(\"matching\", value, end=': ')\n",
    "    match value:\n",
    "        case negative if negative < 0:\n",
    "            print(f\"{negative} is smaller than 0.\")\n",
    "        case positive if positive > 0:\n",
    "            print(f\"{positive} is greater than 0.\")\n",
    "        case _:\n",
    "            print(\"No match\")"
   ]
  },
  {
   "cell_type": "markdown",
   "id": "df061c11-b757-4f48-967d-ba7b7a44a6c9",
   "metadata": {},
   "source": [
    "### Matching lists, tuples, and other sequences"
   ]
  },
  {
   "cell_type": "code",
   "execution_count": 16,
   "id": "c89e0be5-e9fe-4d64-8029-b5e7b383bb5a",
   "metadata": {},
   "outputs": [
    {
     "name": "stdout",
     "output_type": "stream",
     "text": [
      "matching (0, 1): exactly matched 0, 1\n",
      "matching (0, 2): matched 0, y with y: 2\n",
      "matching (1, 2): matched x, y with x, y: 1, 2\n"
     ]
    }
   ],
   "source": [
    "values = (0, 1), (0, 2), (1, 2)\n",
    "\n",
    "for value in values:\n",
    "    print(\"matching\", value, end=\": \")\n",
    "    match value:\n",
    "        case 0, 1:\n",
    "            print(\"exactly matched 0, 1\")\n",
    "        case 0, y:\n",
    "            print(f\"matched 0, y with y: {y}\")\n",
    "        case x, y:\n",
    "            print(f\"matched x, y with x, y: {x}, {y}\")"
   ]
  },
  {
   "cell_type": "markdown",
   "id": "c137f80f-3e9b-41db-b75f-86de0f600d7a",
   "metadata": {},
   "source": [
    "### Matching sequence patterns"
   ]
  },
  {
   "cell_type": "markdown",
   "id": "d33634f5-3d62-4ec5-9035-e4025dabbc83",
   "metadata": {},
   "source": [
    "Let's assume we have a function that takes up to three parameters, <span style='color:#FF90BC'>host, port</span> and <span style='color:#FF90BC'>protocol</span>, we can assume <span style='color:#FF90BC'>443</span> and <span style='color:#FF90BC'>https</span>, respectively, so that only leaves the <span style='color:#FF90BC'>hostname</span> as a required parameter."
   ]
  },
  {
   "cell_type": "code",
   "execution_count": 17,
   "id": "09364126-e376-4678-961f-e30586bc3f4b",
   "metadata": {},
   "outputs": [],
   "source": [
    "def get_uri(*args):\n",
    "    # set defaults so we only have to store changed variables\n",
    "    protocol, port, paths = 'https', 443, ()\n",
    "    match args:\n",
    "        case(hostname,):\n",
    "            pass\n",
    "        case(hostname, port):\n",
    "            pass\n",
    "        case(hostname, port, protocol, *paths):\n",
    "            pass\n",
    "        case _:\n",
    "            raise RuntimeError(f\"Invalid arguments {args}\")\n",
    "    path = \"/\".join(paths)\n",
    "    return f\"{protocol}://{hostname}:{port}/{path}\""
   ]
  },
  {
   "cell_type": "code",
   "execution_count": 18,
   "id": "ceb04e3c-652e-4f6d-9f9c-59ababb3228b",
   "metadata": {},
   "outputs": [
    {
     "data": {
      "text/plain": [
       "'https://localhost:443/'"
      ]
     },
     "execution_count": 18,
     "metadata": {},
     "output_type": "execute_result"
    }
   ],
   "source": [
    "get_uri('localhost')"
   ]
  },
  {
   "cell_type": "code",
   "execution_count": 19,
   "id": "cf953dcc-c09a-4866-a55e-0b5e0935279a",
   "metadata": {},
   "outputs": [
    {
     "data": {
      "text/plain": [
       "'https://localhost:12345/'"
      ]
     },
     "execution_count": 19,
     "metadata": {},
     "output_type": "execute_result"
    }
   ],
   "source": [
    "get_uri('localhost', 12345)"
   ]
  },
  {
   "cell_type": "code",
   "execution_count": 20,
   "id": "520cb055-c6bd-47cb-8822-2f041c100b44",
   "metadata": {},
   "outputs": [
    {
     "data": {
      "text/plain": [
       "'http://localhost:80/'"
      ]
     },
     "execution_count": 20,
     "metadata": {},
     "output_type": "execute_result"
    }
   ],
   "source": [
    "get_uri('localhost', 80, 'http')"
   ]
  },
  {
   "cell_type": "code",
   "execution_count": 21,
   "id": "337bf8bd-a279-4b43-9b2c-8059417525c8",
   "metadata": {},
   "outputs": [
    {
     "data": {
      "text/plain": [
       "'http://localhost:80/some/paths'"
      ]
     },
     "execution_count": 21,
     "metadata": {},
     "output_type": "execute_result"
    }
   ],
   "source": [
    "get_uri('localhost', 80, 'http', 'some', 'paths')"
   ]
  },
  {
   "cell_type": "markdown",
   "id": "ba9fa145-99f3-495a-9f41-5f04c650fe96",
   "metadata": {},
   "source": [
    "#### capturing sub-patterns\n",
    "\n",
    "in addition to specifying a variable name to save all values into, we can also store explicit value matches:"
   ]
  },
  {
   "cell_type": "code",
   "execution_count": 22,
   "id": "996760d9-f491-4bf6-9e9e-07b2c4ffde38",
   "metadata": {},
   "outputs": [],
   "source": [
    "values = (0, 1), (0, 2), (1, 2)"
   ]
  },
  {
   "cell_type": "code",
   "execution_count": 23,
   "id": "284e96f7-ee1f-4ea8-8e6f-41516c006ca0",
   "metadata": {},
   "outputs": [
    {
     "name": "stdout",
     "output_type": "stream",
     "text": [
      "[-] Matching (0, 1): matched x, y with x, y: 0, 1\n",
      "[-] Matching (0, 2): matched x, y with x, y: 0, 2\n",
      "[-] Matching (1, 2): no match\n"
     ]
    }
   ],
   "source": [
    "for value in values:\n",
    "    print(\"[-] Matching\", value, end=\": \")\n",
    "    match value:\n",
    "        case 0 as x, (1 | 2) as y:\n",
    "            print(f\"matched x, y with x, y: {x}, {y}\")\n",
    "        case _:\n",
    "            print(\"no match\")"
   ]
  },
  {
   "cell_type": "markdown",
   "id": "22721570-c6df-488b-8fe4-255670bd5f9e",
   "metadata": {},
   "source": [
    "### Matching dictionaries and other mappings"
   ]
  },
  {
   "cell_type": "code",
   "execution_count": 24,
   "id": "f19fc4f9-5293-422f-bec8-5163a7f4d6e6",
   "metadata": {},
   "outputs": [],
   "source": [
    "values = dict(a=0, b=0), dict(a=0, b=1), dict(a=1, b=1)"
   ]
  },
  {
   "cell_type": "code",
   "execution_count": 25,
   "id": "b92fbe4d-3d7f-4c52-9cc0-dbf4ddb2bf26",
   "metadata": {},
   "outputs": [
    {
     "data": {
      "text/plain": [
       "({'a': 0, 'b': 0}, {'a': 0, 'b': 1}, {'a': 1, 'b': 1})"
      ]
     },
     "execution_count": 25,
     "metadata": {},
     "output_type": "execute_result"
    }
   ],
   "source": [
    "values"
   ]
  },
  {
   "cell_type": "code",
   "execution_count": 26,
   "id": "9506211b-201e-4dbb-b6b4-c212b95009e3",
   "metadata": {},
   "outputs": [
    {
     "name": "stdout",
     "output_type": "stream",
     "text": [
      "[-] Matching {'a': 0, 'b': 0}: matched a=0: {'a': 0, 'b': 0}\n",
      "[-] Matching {'a': 0, 'b': 1}: matched a=0: {'a': 0, 'b': 1}\n",
      "[-] Matching {'a': 1, 'b': 1}: no match\n"
     ]
    }
   ],
   "source": [
    "for value in values:\n",
    "    print(\"[-] Matching\", value, end=\": \")\n",
    "    match value:\n",
    "        case {'a': 0}:\n",
    "            print(\"matched a=0:\", value)\n",
    "        case {'a': 0, 'b': 0}:\n",
    "            print(\"matched a=0, b=0:\", value)\n",
    "        case _:\n",
    "            print(\"no match\")"
   ]
  },
  {
   "cell_type": "markdown",
   "id": "ebe610f8-29be-4a68-be08-64461793cd89",
   "metadata": {},
   "source": [
    "📌 <span style='color:#F4D03F'>As you can see in the preceding example, matching happens sequentially and it will stop at the first match, not the best match. The second case is never reached in this scenario.</span>"
   ]
  },
  {
   "cell_type": "markdown",
   "id": "d822f2e5-c144-4bc6-9ebe-0f6019d0583a",
   "metadata": {},
   "source": [
    "### Matching using isinstance and attributes"
   ]
  },
  {
   "cell_type": "code",
   "execution_count": 27,
   "id": "4321baa2-e922-4f7e-9e91-34b41196f642",
   "metadata": {},
   "outputs": [],
   "source": [
    "class Person:\n",
    "    def __init__(self, name):\n",
    "        self.name = name"
   ]
  },
  {
   "cell_type": "code",
   "execution_count": 28,
   "id": "52c9b702-8db6-4dc2-b99a-57741e0cee74",
   "metadata": {},
   "outputs": [],
   "source": [
    "values = Person('Rick'), Person('Guido')"
   ]
  },
  {
   "cell_type": "code",
   "execution_count": 29,
   "id": "e9d492c5-5eac-4848-8255-546d284c3c11",
   "metadata": {},
   "outputs": [
    {
     "name": "stdout",
     "output_type": "stream",
     "text": [
      "I found Rick\n",
      "I found a person: Guido\n"
     ]
    }
   ],
   "source": [
    "for value in values:\n",
    "    match value:\n",
    "        case Person(name='Rick'):\n",
    "            print(\"I found Rick\")\n",
    "        case Person(occupation='Programmer'):\n",
    "            print(\"I found a programmer\")\n",
    "        case Person() as person:\n",
    "            print(\"I found a person:\", person.name)"
   ]
  },
  {
   "cell_type": "code",
   "execution_count": null,
   "id": "b277ccf9-0d76-4065-9596-2012d7fbba37",
   "metadata": {},
   "outputs": [],
   "source": []
  }
 ],
 "metadata": {
  "kernelspec": {
   "display_name": "packtpub",
   "language": "python",
   "name": "packtpub"
  },
  "language_info": {
   "codemirror_mode": {
    "name": "ipython",
    "version": 3
   },
   "file_extension": ".py",
   "mimetype": "text/x-python",
   "name": "python",
   "nbconvert_exporter": "python",
   "pygments_lexer": "ipython3",
   "version": "3.10.5"
  }
 },
 "nbformat": 4,
 "nbformat_minor": 5
}
